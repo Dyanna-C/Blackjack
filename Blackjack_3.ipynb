{
 "cells": [
  {
   "cell_type": "code",
   "execution_count": 8,
   "id": "c481844a",
   "metadata": {},
   "outputs": [],
   "source": [
    "import random\n",
    "\n",
    "#https://jessicawatts-95014.medium.com/python-blackjack-command-line-game-849e31e79c04#\n",
    "ranks = (\"two\", \"three\",\"four\" ,\"five\",\"six\",\"seven\",\"eight\",\"nine\",\"ten\", \"Jack\", \"Queen\", \"King\", \"Ace\")\n",
    "numbers = {\"two\":2, \"three\":3,\"four\":4,\"five\":5,\"six\":6,\"seven\":7,\"eight\" :8,\"nine\" :9,\"ten\":10, \"Jack\":10, \n",
    "           \"Queen\":10, \"King\":10, \"Ace\":11}\n",
    "suits = (\"Hearts\", \"Clubs\", \"Diamonds\", \"Spades\")\n",
    "    \n",
    "\n",
    "class Card:\n",
    "    def __init__(self,rank,suit,number):\n",
    "        self.suit = suit\n",
    "        self.rank = rank\n",
    "        self.number = number\n",
    "    \n",
    "    def __str__ (self):\n",
    "        return self.rank + self.suit\n",
    "        print (self.rank + self.suit)\n",
    "\n",
    "class Deck:\n",
    "    def __init__(self):\n",
    "        self.deck = []\n",
    "        for number in numbers:\n",
    "            for suit in suits:\n",
    "                \n",
    "                [Card(rank, suit) for rank in ranks for suit in suits]\n",
    "        random.shuffle(deck)\n",
    "        \n",
    "        \n",
    "\n",
    "class Dealer:\n",
    "    def __init__(self):\n",
    "        self.give_cards\n",
    "        self.shuffle\n",
    "        \n",
    "        \n",
    "class Player:\n",
    "    def __init__(self):\n",
    "        self.gets_cards\n",
    "        self.count_cards\n",
    "        self.stay\n",
    "        self.hit\n",
    "        \n",
    "        while True: # Step 3\n",
    "        \n",
    "        # Step 4\n",
    "        ask = input('What would you like to do? hit or stay').lower()\n",
    "        \n",
    "         \n",
    "        # Step 5 received help from tutor\n",
    "        print(f'Ask was: {ask}')\n",
    "            \n",
    "        if ask == 'hit':\n",
    "        if ask == 'stay':\n",
    "            "
   ]
  },
  {
   "cell_type": "code",
   "execution_count": null,
   "id": "cf0b01ef",
   "metadata": {},
   "outputs": [],
   "source": []
  }
 ],
 "metadata": {
  "kernelspec": {
   "display_name": "Python 3 (ipykernel)",
   "language": "python",
   "name": "python3"
  },
  "language_info": {
   "codemirror_mode": {
    "name": "ipython",
    "version": 3
   },
   "file_extension": ".py",
   "mimetype": "text/x-python",
   "name": "python",
   "nbconvert_exporter": "python",
   "pygments_lexer": "ipython3",
   "version": "3.9.12"
  }
 },
 "nbformat": 4,
 "nbformat_minor": 5
}
